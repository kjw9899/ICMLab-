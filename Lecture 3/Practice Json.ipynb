{
 "cells": [
  {
   "cell_type": "code",
   "execution_count": 1,
   "id": "mexican-citation",
   "metadata": {},
   "outputs": [],
   "source": [
    "import json"
   ]
  },
  {
   "cell_type": "code",
   "execution_count": 9,
   "id": "abstract-resistance",
   "metadata": {},
   "outputs": [],
   "source": [
    "a={'value1':5, 'value2':10,'seq':[1,2,3,4,5]}"
   ]
  },
  {
   "cell_type": "code",
   "execution_count": 10,
   "id": "emerging-elimination",
   "metadata": {},
   "outputs": [],
   "source": [
    "filename='test.json'\n",
    "with open(filename, 'w') as f : ## 쓰기모드라서 'w'\n",
    "    json.dump(a,f)  ## 파일 f에 a를 저장해라"
   ]
  },
  {
   "cell_type": "code",
   "execution_count": 11,
   "id": "comprehensive-disposal",
   "metadata": {},
   "outputs": [
    {
     "name": "stdout",
     "output_type": "stream",
     "text": [
      "'Practice Json.ipynb'   test.json\r\n"
     ]
    }
   ],
   "source": [
    "!ls ## 어떤 파일들이 있는지 알아봄"
   ]
  },
  {
   "cell_type": "code",
   "execution_count": 12,
   "id": "mexican-board",
   "metadata": {},
   "outputs": [
    {
     "name": "stdout",
     "output_type": "stream",
     "text": [
      "{\"value1\": 5, \"value2\": 10, \"seq\": [1, 2, 3, 4, 5]}"
     ]
    }
   ],
   "source": [
    "!cat test.json  ## 파일안에 어떤 값들이 있는지 알아봄"
   ]
  },
  {
   "cell_type": "code",
   "execution_count": 14,
   "id": "casual-plastic",
   "metadata": {},
   "outputs": [
    {
     "name": "stdout",
     "output_type": "stream",
     "text": [
      "{'value1': 5, 'value2': 10, 'seq': [1, 2, 3, 4, 5]}\n"
     ]
    }
   ],
   "source": [
    "with open(filename, 'r') as f: ## 파일에 적절한 값이 잘 들어갔는지 확인\n",
    "    result=json.load(f)\n",
    "    print(result)"
   ]
  },
  {
   "cell_type": "code",
   "execution_count": 15,
   "id": "incoming-factory",
   "metadata": {},
   "outputs": [],
   "source": [
    "import hashlib"
   ]
  },
  {
   "cell_type": "code",
   "execution_count": 25,
   "id": "arranged-stage",
   "metadata": {},
   "outputs": [
    {
     "name": "stdout",
     "output_type": "stream",
     "text": [
      "exp1-4766aa.json\n"
     ]
    }
   ],
   "source": [
    "setting={'value1':5, 'value2':10,'seq':[1,2,3,4,5], 'exp_name':'exp1'}\n",
    "exp_name=setting['exp_name'] \n",
    "hash_key=hashlib.sha1(str(setting).encode()).hexdigest()[:6]\n",
    "filename='{}-{}.json'.format(exp_name,hash_key)\n",
    "print(filename) ## 실험의 setting 값만 저장한 상태"
   ]
  }
 ],
 "metadata": {
  "kernelspec": {
   "display_name": "Python 3",
   "language": "python",
   "name": "python3"
  },
  "language_info": {
   "codemirror_mode": {
    "name": "ipython",
    "version": 3
   },
   "file_extension": ".py",
   "mimetype": "text/x-python",
   "name": "python",
   "nbconvert_exporter": "python",
   "pygments_lexer": "ipython3",
   "version": "3.6.12"
  }
 },
 "nbformat": 4,
 "nbformat_minor": 5
}
