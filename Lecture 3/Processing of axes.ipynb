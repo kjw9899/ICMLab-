{
 "cells": [
  {
   "cell_type": "markdown",
   "id": "buried-portugal",
   "metadata": {},
   "source": [
    "## Ex 1. np.swapaxes(array, axis, axis) 2차원"
   ]
  },
  {
   "cell_type": "code",
   "execution_count": 47,
   "id": "other-software",
   "metadata": {},
   "outputs": [],
   "source": [
    "import numpy as np\n",
    "\n",
    "a=np.arange(3)\n",
    "a=a.reshape(1,3)"
   ]
  },
  {
   "cell_type": "code",
   "execution_count": 48,
   "id": "fixed-rainbow",
   "metadata": {},
   "outputs": [],
   "source": [
    "y=np.swapaxes(a,0,1)"
   ]
  },
  {
   "cell_type": "code",
   "execution_count": 49,
   "id": "specified-organ",
   "metadata": {},
   "outputs": [
    {
     "data": {
      "text/plain": [
       "(3, 1)"
      ]
     },
     "execution_count": 49,
     "metadata": {},
     "output_type": "execute_result"
    }
   ],
   "source": [
    "y.shape"
   ]
  },
  {
   "cell_type": "code",
   "execution_count": 52,
   "id": "psychological-fitting",
   "metadata": {},
   "outputs": [
    {
     "data": {
      "text/plain": [
       "array([[0, 1, 2],\n",
       "       [3, 4, 5]])"
      ]
     },
     "execution_count": 52,
     "metadata": {},
     "output_type": "execute_result"
    }
   ],
   "source": [
    "b=np.arange(6)\n",
    "b=b.reshape(2,3)\n",
    "b"
   ]
  },
  {
   "cell_type": "code",
   "execution_count": 54,
   "id": "decimal-baker",
   "metadata": {},
   "outputs": [
    {
     "data": {
      "text/plain": [
       "array([[0, 3],\n",
       "       [1, 4],\n",
       "       [2, 5]])"
      ]
     },
     "execution_count": 54,
     "metadata": {},
     "output_type": "execute_result"
    }
   ],
   "source": [
    "x=np.swapaxes(b,0,1)\n",
    "x"
   ]
  },
  {
   "cell_type": "markdown",
   "id": "blond-context",
   "metadata": {},
   "source": [
    "## Ex 2. np.swapaxes(array, axis, axis) 3차원"
   ]
  },
  {
   "cell_type": "markdown",
   "id": "favorite-explosion",
   "metadata": {},
   "source": [
    "axis = 0은 3차원 축,\n",
    "axis = 1은 2차원 축,\n",
    "axis = 2는 1차원 축,"
   ]
  },
  {
   "cell_type": "code",
   "execution_count": 73,
   "id": "noted-discipline",
   "metadata": {},
   "outputs": [],
   "source": [
    "c=np.arange(6).reshape(1,2,3)"
   ]
  },
  {
   "cell_type": "code",
   "execution_count": 74,
   "id": "helpful-horse",
   "metadata": {},
   "outputs": [
    {
     "data": {
      "text/plain": [
       "array([[[0, 1, 2],\n",
       "        [3, 4, 5]]])"
      ]
     },
     "execution_count": 74,
     "metadata": {},
     "output_type": "execute_result"
    }
   ],
   "source": [
    "c"
   ]
  },
  {
   "cell_type": "code",
   "execution_count": 75,
   "id": "logical-reynolds",
   "metadata": {},
   "outputs": [
    {
     "data": {
      "text/plain": [
       "(1, 2, 3)"
      ]
     },
     "execution_count": 75,
     "metadata": {},
     "output_type": "execute_result"
    }
   ],
   "source": [
    "c.shape"
   ]
  },
  {
   "cell_type": "code",
   "execution_count": 78,
   "id": "processed-array",
   "metadata": {},
   "outputs": [
    {
     "data": {
      "text/plain": [
       "(1, 3, 2)"
      ]
     },
     "execution_count": 78,
     "metadata": {},
     "output_type": "execute_result"
    }
   ],
   "source": [
    "z=np.swapaxes(c,1,2) # 2차원 축과 1차원 축을 바꿔라\n",
    "z.shape"
   ]
  },
  {
   "cell_type": "code",
   "execution_count": 79,
   "id": "global-minneapolis",
   "metadata": {},
   "outputs": [
    {
     "data": {
      "text/plain": [
       "array([[[0, 3],\n",
       "        [1, 4],\n",
       "        [2, 5]]])"
      ]
     },
     "execution_count": 79,
     "metadata": {},
     "output_type": "execute_result"
    }
   ],
   "source": [
    "z"
   ]
  },
  {
   "cell_type": "code",
   "execution_count": 80,
   "id": "cloudy-partner",
   "metadata": {},
   "outputs": [
    {
     "data": {
      "text/plain": [
       "(2, 3, 1)"
      ]
     },
     "execution_count": 80,
     "metadata": {},
     "output_type": "execute_result"
    }
   ],
   "source": [
    "n=np.swapaxes(z,0,2)\n",
    "n.shape"
   ]
  },
  {
   "cell_type": "markdown",
   "id": "light-produce",
   "metadata": {},
   "source": [
    "## Ex 3. np.transpose()"
   ]
  },
  {
   "cell_type": "markdown",
   "id": "afraid-hindu",
   "metadata": {},
   "source": [
    "transepose()는 사용자가 원하는대로 축을 한번에 여러개 바꿀 수 있다."
   ]
  },
  {
   "cell_type": "code",
   "execution_count": 81,
   "id": "exact-trigger",
   "metadata": {},
   "outputs": [],
   "source": [
    "t=np.arange(6).reshape(2,3)"
   ]
  },
  {
   "cell_type": "code",
   "execution_count": 82,
   "id": "subject-fantasy",
   "metadata": {},
   "outputs": [
    {
     "data": {
      "text/plain": [
       "array([[0, 1, 2],\n",
       "       [3, 4, 5]])"
      ]
     },
     "execution_count": 82,
     "metadata": {},
     "output_type": "execute_result"
    }
   ],
   "source": [
    "t"
   ]
  },
  {
   "cell_type": "code",
   "execution_count": 85,
   "id": "instant-beatles",
   "metadata": {},
   "outputs": [
    {
     "data": {
      "text/plain": [
       "array([[0, 3],\n",
       "       [1, 4],\n",
       "       [2, 5]])"
      ]
     },
     "execution_count": 85,
     "metadata": {},
     "output_type": "execute_result"
    }
   ],
   "source": [
    "y=np.transpose(t)\n",
    "y"
   ]
  },
  {
   "cell_type": "code",
   "execution_count": 86,
   "id": "magnetic-fifty",
   "metadata": {},
   "outputs": [
    {
     "data": {
      "text/plain": [
       "array([[0, 3],\n",
       "       [1, 4],\n",
       "       [2, 5]])"
      ]
     },
     "execution_count": 86,
     "metadata": {},
     "output_type": "execute_result"
    }
   ],
   "source": [
    "g=t.T\n",
    "g"
   ]
  },
  {
   "cell_type": "markdown",
   "id": "cellular-violation",
   "metadata": {},
   "source": [
    "## 차원 추가"
   ]
  },
  {
   "cell_type": "code",
   "execution_count": 87,
   "id": "brazilian-diamond",
   "metadata": {},
   "outputs": [],
   "source": [
    "x=np.arange(2)"
   ]
  },
  {
   "cell_type": "code",
   "execution_count": 88,
   "id": "revolutionary-permission",
   "metadata": {},
   "outputs": [
    {
     "data": {
      "text/plain": [
       "array([0, 1])"
      ]
     },
     "execution_count": 88,
     "metadata": {},
     "output_type": "execute_result"
    }
   ],
   "source": [
    "x"
   ]
  },
  {
   "cell_type": "code",
   "execution_count": 89,
   "id": "iraqi-socket",
   "metadata": {},
   "outputs": [
    {
     "data": {
      "text/plain": [
       "(2,)"
      ]
     },
     "execution_count": 89,
     "metadata": {},
     "output_type": "execute_result"
    }
   ],
   "source": [
    "x.shape"
   ]
  },
  {
   "cell_type": "code",
   "execution_count": 97,
   "id": "earlier-nelson",
   "metadata": {},
   "outputs": [],
   "source": [
    "# 첫 번째 축에 차원을 추가한다.\n",
    "# expand_dims 대신에 x[np.newaxis,:] 또는 x[np.newaxis]도 사용 가능\n",
    "\n",
    "y=np.expand_dims(x,axis=0)"
   ]
  },
  {
   "cell_type": "code",
   "execution_count": 98,
   "id": "incredible-being",
   "metadata": {},
   "outputs": [
    {
     "data": {
      "text/plain": [
       "(1, 2)"
      ]
     },
     "execution_count": 98,
     "metadata": {},
     "output_type": "execute_result"
    }
   ],
   "source": [
    "y.shape"
   ]
  },
  {
   "cell_type": "markdown",
   "id": "cubic-concrete",
   "metadata": {},
   "source": [
    "튜플을 사용하여 2개의 축에 차원을 한꺼번에 추가할 수도 있다."
   ]
  },
  {
   "cell_type": "code",
   "execution_count": 104,
   "id": "dimensional-swing",
   "metadata": {},
   "outputs": [],
   "source": [
    "z=np.expand_dims(x,axis=(0,1))"
   ]
  },
  {
   "cell_type": "code",
   "execution_count": 105,
   "id": "greater-chart",
   "metadata": {},
   "outputs": [
    {
     "data": {
      "text/plain": [
       "(1, 1, 2)"
      ]
     },
     "execution_count": 105,
     "metadata": {},
     "output_type": "execute_result"
    }
   ],
   "source": [
    "z.shape"
   ]
  },
  {
   "cell_type": "code",
   "execution_count": null,
   "id": "successful-stock",
   "metadata": {},
   "outputs": [],
   "source": []
  }
 ],
 "metadata": {
  "kernelspec": {
   "display_name": "Python 3",
   "language": "python",
   "name": "python3"
  },
  "language_info": {
   "codemirror_mode": {
    "name": "ipython",
    "version": 3
   },
   "file_extension": ".py",
   "mimetype": "text/x-python",
   "name": "python",
   "nbconvert_exporter": "python",
   "pygments_lexer": "ipython3",
   "version": "3.6.12"
  }
 },
 "nbformat": 4,
 "nbformat_minor": 5
}
