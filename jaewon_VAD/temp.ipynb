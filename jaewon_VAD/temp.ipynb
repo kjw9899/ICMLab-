{
 "cells": [
  {
   "cell_type": "code",
   "execution_count": 2,
   "metadata": {},
   "outputs": [
    {
     "name": "stderr",
     "output_type": "stream",
     "text": [
      "/home/admin-pc/anaconda3/envs/jaewon/lib/python3.8/site-packages/tqdm/auto.py:21: TqdmWarning: IProgress not found. Please update jupyter and ipywidgets. See https://ipywidgets.readthedocs.io/en/stable/user_install.html\n",
      "  from .autonotebook import tqdm as notebook_tqdm\n"
     ]
    }
   ],
   "source": [
    "import numpy as np\n",
    "import torch\n",
    "import torch as nn\n",
    "from torch import nn, einsum\n",
    "\n",
    "import os\n",
    "from glob import glob\n",
    "#from einops import rearrange"
   ]
  },
  {
   "cell_type": "code",
   "execution_count": null,
   "metadata": {},
   "outputs": [],
   "source": [
    "def process_feat(feat, length):\n",
    "    new_feat = np.zeros((length, feat.shape[1])).astype(np.float32) #UCF(32,2048)\n",
    "    r = np.linspace(0, len(feat), length+1, dtype=np.int) #(33,)\n",
    "    for i in range(length):\n",
    "        if r[i]!=r[i+1]:\n",
    "            new_feat[i,:] = np.mean(feat[r[i]:r[i+1],:], 0)\n",
    "        else:\n",
    "            new_feat[i,:] = feat[r[i],:]\n",
    "    return new_feat"
   ]
  },
  {
   "cell_type": "code",
   "execution_count": 13,
   "metadata": {},
   "outputs": [
    {
     "name": "stdout",
     "output_type": "stream",
     "text": [
      "(89, 10, 2048)\n",
      "(97, 10, 2048)\n",
      "(149, 10, 2048)\n",
      "(197, 10, 2048)\n",
      "(227, 10, 2048)\n"
     ]
    }
   ],
   "source": [
    "dir = '/home/admin-pc/jaewon/jaewon_VAD/testfolder'\n",
    "dir = sorted(glob(os.path.join(dir, '*')))\n",
    "\n",
    "npy_list = []\n",
    "\n",
    "for pth in dir :\n",
    "    npy = np.load(pth)\n",
    "    npy_list.append(npy)\n",
    "    print(npy.shape)\n"
   ]
  },
  {
   "cell_type": "code",
   "execution_count": 16,
   "metadata": {},
   "outputs": [
    {
     "name": "stdout",
     "output_type": "stream",
     "text": [
      "(89, 10, 2048)\n",
      "(10, 2048)\n"
     ]
    }
   ],
   "source": [
    "new_feat = np.zeros((10, 2048)).astype(np.float32)\n",
    "feat = npy_list[0]\n",
    "print(npy_list[0].shape)\n",
    "print(new_feat.shape)"
   ]
  },
  {
   "cell_type": "code",
   "execution_count": 19,
   "metadata": {},
   "outputs": [
    {
     "name": "stdout",
     "output_type": "stream",
     "text": [
      "(11,)\n"
     ]
    }
   ],
   "source": [
    "r = np.linspace(0, len(npy_list[0]), 10+1, dtype=int)\n",
    "print(r.shape)"
   ]
  },
  {
   "cell_type": "code",
   "execution_count": 22,
   "metadata": {},
   "outputs": [
    {
     "data": {
      "text/plain": [
       "9.16515138991168"
      ]
     },
     "execution_count": 22,
     "metadata": {},
     "output_type": "execute_result"
    }
   ],
   "source": [
    "import numpy as np\n",
    "import numpy.linalg as LA\n",
    "\n",
    "a = np.array([1, 3, 5, 7])\n",
    "\n",
    "# 9.16515138991168 결과 동일(import 형태에 따라 다른 사용법)\n",
    "np.linalg.norm(a)\n"
   ]
  },
  {
   "cell_type": "code",
   "execution_count": 24,
   "metadata": {},
   "outputs": [
    {
     "name": "stdout",
     "output_type": "stream",
     "text": [
      "(272, 10, 2048)\n",
      "(10, 272, 2048)\n"
     ]
    }
   ],
   "source": [
    "arr = np.random.rand(272,10, 2048)\n",
    "print(arr.shape)\n",
    "\n",
    "arr1 = arr.transpose(1, 0, 2)\n",
    "print(arr1.shape)"
   ]
  },
  {
   "cell_type": "code",
   "execution_count": 3,
   "metadata": {},
   "outputs": [
    {
     "name": "stdout",
     "output_type": "stream",
     "text": [
      "(32, 1024)\n"
     ]
    }
   ],
   "source": [
    "features = np.load('/home/admin-pc/jaewon/jaewon_VAD/UCF-Crime/all_flows/Abuse/Abuse001_x264.mp4.npy')\n",
    "print(features.shape)"
   ]
  },
  {
   "cell_type": "code",
   "execution_count": 31,
   "metadata": {},
   "outputs": [],
   "source": [
    "def process_feat(feat, length):\n",
    "    new_feat = np.zeros((length, feat.shape[1])).astype(np.float32) #UCF(32,2048)\n",
    "    r = np.linspace(0, len(feat), length+1, dtype=int) #(33,)\n",
    "    for i in range(length):\n",
    "        if r[i]!=r[i+1]:\n",
    "            new_feat[i,:] = np.mean(feat[r[i]:r[i+1],:], 0)\n",
    "        else:\n",
    "            new_feat[i,:] = feat[r[i],:]\n",
    "    return new_feat"
   ]
  },
  {
   "cell_type": "code",
   "execution_count": 38,
   "metadata": {},
   "outputs": [],
   "source": [
    "seg_length = 10\n",
    "\n",
    "features = features.transpose(1, 0, 2) # [10, T= number of clips, Feature]\n",
    "divided_features = []\n",
    "\n",
    "for feature in features :\n",
    "    feature = process_feat(feature, seg_length)\n",
    "    divided_features.append(feature)\n",
    "divided_features = np.array(divided_features, dtype=np.float32)"
   ]
  },
  {
   "cell_type": "code",
   "execution_count": 39,
   "metadata": {},
   "outputs": [
    {
     "data": {
      "text/plain": [
       "(89, 10, 2048)"
      ]
     },
     "execution_count": 39,
     "metadata": {},
     "output_type": "execute_result"
    }
   ],
   "source": [
    "divided_features.shape"
   ]
  },
  {
   "cell_type": "code",
   "execution_count": null,
   "metadata": {},
   "outputs": [],
   "source": []
  }
 ],
 "metadata": {
  "kernelspec": {
   "display_name": "Python 3.8.16 ('jaewon')",
   "language": "python",
   "name": "python3"
  },
  "language_info": {
   "codemirror_mode": {
    "name": "ipython",
    "version": 3
   },
   "file_extension": ".py",
   "mimetype": "text/x-python",
   "name": "python",
   "nbconvert_exporter": "python",
   "pygments_lexer": "ipython3",
   "version": "3.8.16"
  },
  "orig_nbformat": 4,
  "vscode": {
   "interpreter": {
    "hash": "f9ecf64ebfb5b813c053a2e6f72873f035e1c08dd20c85722146b66f8c2a1540"
   }
  }
 },
 "nbformat": 4,
 "nbformat_minor": 2
}
